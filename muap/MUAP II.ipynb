{
 "cells": [
  {
   "cell_type": "markdown",
   "metadata": {},
   "source": [
    "# Parte II: efecto de agregación\n",
    "\n",
    "En la primera parte de la práctica vimos cómo la escala de análisis tiene influencia sobre los resultados del mismo. En esta segunda parte vamos a ver como diferentes formas de agregar los datos, en una misma escala, también pueden tener una influencia sobre los resultados de un análisis.\n",
    "\n",
    "Para esta segunda parte vamos a volver a trabajar con los datos de mezcla de usos de suelo en la Ciudad de México y vamos a tratar de estimar su efecto en la generación de viajes. Los datos de uso de suelo están calculados a partir del DENUE, mientras que la información sobre los viajes es de la Encuesta Origen Destino del 2007, por lo que la escala de análisis serán los distritos de tráfico de dicha encuesta.\n",
    "\n",
    "Como siempre, el primer paso es leer los datos:"
   ]
  },
  {
   "cell_type": "code",
   "execution_count": 15,
   "metadata": {
    "collapsed": false
   },
   "outputs": [
    {
     "data": {
      "text/html": [
       "<div>\n",
       "<table border=\"1\" class=\"dataframe\">\n",
       "  <thead>\n",
       "    <tr style=\"text-align: right;\">\n",
       "      <th></th>\n",
       "      <th>comercio</th>\n",
       "      <th>cve_dist</th>\n",
       "      <th>entrada</th>\n",
       "      <th>geometry</th>\n",
       "      <th>gid</th>\n",
       "      <th>loop</th>\n",
       "      <th>ocio</th>\n",
       "      <th>pob</th>\n",
       "      <th>salida</th>\n",
       "      <th>viv</th>\n",
       "    </tr>\n",
       "  </thead>\n",
       "  <tbody>\n",
       "    <tr>\n",
       "      <th>0</th>\n",
       "      <td>9614</td>\n",
       "      <td>034</td>\n",
       "      <td>201286</td>\n",
       "      <td>POLYGON ((486947.2187500237 2148842.250066909,...</td>\n",
       "      <td>1</td>\n",
       "      <td>27627</td>\n",
       "      <td>95</td>\n",
       "      <td>2125687</td>\n",
       "      <td>200217</td>\n",
       "      <td>32618</td>\n",
       "    </tr>\n",
       "    <tr>\n",
       "      <th>1</th>\n",
       "      <td>2905</td>\n",
       "      <td>083</td>\n",
       "      <td>209264</td>\n",
       "      <td>POLYGON ((478110.2187500393 2134697.250066519,...</td>\n",
       "      <td>2</td>\n",
       "      <td>76022</td>\n",
       "      <td>82</td>\n",
       "      <td>3563363</td>\n",
       "      <td>209859</td>\n",
       "      <td>42238</td>\n",
       "    </tr>\n",
       "    <tr>\n",
       "      <th>2</th>\n",
       "      <td>2944</td>\n",
       "      <td>113</td>\n",
       "      <td>65701</td>\n",
       "      <td>POLYGON ((501006.0312499983 2148019.750066887,...</td>\n",
       "      <td>3</td>\n",
       "      <td>10611</td>\n",
       "      <td>72</td>\n",
       "      <td>3128496</td>\n",
       "      <td>66706</td>\n",
       "      <td>26003</td>\n",
       "    </tr>\n",
       "    <tr>\n",
       "      <th>3</th>\n",
       "      <td>2425</td>\n",
       "      <td>131</td>\n",
       "      <td>42385</td>\n",
       "      <td>(POLYGON ((507974.718749986 2125105.250066254,...</td>\n",
       "      <td>4</td>\n",
       "      <td>8468</td>\n",
       "      <td>60</td>\n",
       "      <td>4842162</td>\n",
       "      <td>43106</td>\n",
       "      <td>44080</td>\n",
       "    </tr>\n",
       "    <tr>\n",
       "      <th>4</th>\n",
       "      <td>2849</td>\n",
       "      <td>063</td>\n",
       "      <td>128608</td>\n",
       "      <td>POLYGON ((487190.7500000236 2140396.250066676,...</td>\n",
       "      <td>5</td>\n",
       "      <td>24472</td>\n",
       "      <td>30</td>\n",
       "      <td>4146145</td>\n",
       "      <td>128756</td>\n",
       "      <td>35981</td>\n",
       "    </tr>\n",
       "  </tbody>\n",
       "</table>\n",
       "</div>"
      ],
      "text/plain": [
       "   comercio cve_dist  entrada  \\\n",
       "0      9614      034   201286   \n",
       "1      2905      083   209264   \n",
       "2      2944      113    65701   \n",
       "3      2425      131    42385   \n",
       "4      2849      063   128608   \n",
       "\n",
       "                                            geometry  gid   loop  ocio  \\\n",
       "0  POLYGON ((486947.2187500237 2148842.250066909,...    1  27627    95   \n",
       "1  POLYGON ((478110.2187500393 2134697.250066519,...    2  76022    82   \n",
       "2  POLYGON ((501006.0312499983 2148019.750066887,...    3  10611    72   \n",
       "3  (POLYGON ((507974.718749986 2125105.250066254,...    4   8468    60   \n",
       "4  POLYGON ((487190.7500000236 2140396.250066676,...    5  24472    30   \n",
       "\n",
       "       pob  salida    viv  \n",
       "0  2125687  200217  32618  \n",
       "1  3563363  209859  42238  \n",
       "2  3128496   66706  26003  \n",
       "3  4842162   43106  44080  \n",
       "4  4146145  128756  35981  "
      ]
     },
     "execution_count": 15,
     "metadata": {},
     "output_type": "execute_result"
    }
   ],
   "source": [
    "from geopandas import GeoDataFrame\n",
    "datos = GeoDataFrame.from_file('data/distritos_variables.shp')\n",
    "datos.head()"
   ]
  },
  {
   "cell_type": "markdown",
   "metadata": {},
   "source": [
    "El _shapefile_ que leimos tiene columnas para cada uno de los tipos de uso de suelo que nos interesan (vivienda, comercio, servicios y ocio), adicionalmente tiene tres columnas con información de los viajes:\n",
    "\n",
    "* entrada: los viajes que terminan en el distrito y que empezaron en uno diferente\n",
    "* salida: los viajes que empiezan en el distrito y terminan en uno distinto\n",
    "* loop: los viajes que inician y terminan en el mismo distrito.\n",
    "\n",
    "Como pueden recordar de la práctica anterior en que usamos estos datos, la mezcla de usos de suelo se mide utilizando el índice de  _entropía_, en esta ocasión vmos a calcularlo de acuerdo a la siguiente fórmula:\n",
    "\n",
    "\\begin{equation} \n",
    "E = \\sum\\limits_{j}{\\frac{p_{j}*ln(p_{j})}{ln(J)}}\n",
    "\\end{equation}\n",
    "\n",
    "Donde $p_{j}$ representa la proporción del $j-ésimo$ uso de suelo con respecto al total y $J$ es el número de usos de suelo."
   ]
  },
  {
   "cell_type": "code",
   "execution_count": 16,
   "metadata": {
    "collapsed": false
   },
   "outputs": [
    {
     "data": {
      "text/plain": [
       "0   -0.501674\n",
       "1   -0.229016\n",
       "2   -0.314356\n",
       "3   -0.195138\n",
       "4   -0.244285\n",
       "dtype: float64"
      ]
     },
     "execution_count": 16,
     "metadata": {},
     "output_type": "execute_result"
    }
   ],
   "source": [
    "import numpy as np\n",
    "intensidad = datos['comercio'] + datos['viv'] + datos['ocio']\n",
    "prop_comercio = datos['comercio'] / intensidad\n",
    "prop_viv = datos['viv'] / intensidad\n",
    "prop_ocio = datos['ocio'] / intensidad\n",
    "entropia = (prop_comercio*np.log(prop_comercio) + prop_viv*np.log(prop_viv) + prop_ocio*np.log(prop_ocio))/np.log(3)\n",
    "entropia.head()"
   ]
  },
  {
   "cell_type": "markdown",
   "metadata": {},
   "source": [
    "Lo que hicimos para calcular la _entropía_ es relativamente fácil. Primero creamos la variable intensidad, que es la suma de todos los usos de suelo y luego fuimos calculando cada una de las proporciones, finalmente las sumamos y las dividimos por el logaritmo natural del número de usus de suelo. Lo que tenemos ahora es una **Serie** que contiene los datos de entropía, ahora lo que necesitamos es unir esa serie a nuestros datos originales:"
   ]
  },
  {
   "cell_type": "code",
   "execution_count": 17,
   "metadata": {
    "collapsed": false
   },
   "outputs": [
    {
     "data": {
      "text/html": [
       "<div>\n",
       "<table border=\"1\" class=\"dataframe\">\n",
       "  <thead>\n",
       "    <tr style=\"text-align: right;\">\n",
       "      <th></th>\n",
       "      <th>comercio</th>\n",
       "      <th>cve_dist</th>\n",
       "      <th>entrada</th>\n",
       "      <th>geometry</th>\n",
       "      <th>gid</th>\n",
       "      <th>loop</th>\n",
       "      <th>ocio</th>\n",
       "      <th>pob</th>\n",
       "      <th>salida</th>\n",
       "      <th>viv</th>\n",
       "      <th>entropia</th>\n",
       "    </tr>\n",
       "  </thead>\n",
       "  <tbody>\n",
       "    <tr>\n",
       "      <th>0</th>\n",
       "      <td>9614</td>\n",
       "      <td>034</td>\n",
       "      <td>201286</td>\n",
       "      <td>POLYGON ((486947.2187500237 2148842.250066909,...</td>\n",
       "      <td>1</td>\n",
       "      <td>27627</td>\n",
       "      <td>95</td>\n",
       "      <td>2125687</td>\n",
       "      <td>200217</td>\n",
       "      <td>32618</td>\n",
       "      <td>-0.501674</td>\n",
       "    </tr>\n",
       "    <tr>\n",
       "      <th>1</th>\n",
       "      <td>2905</td>\n",
       "      <td>083</td>\n",
       "      <td>209264</td>\n",
       "      <td>POLYGON ((478110.2187500393 2134697.250066519,...</td>\n",
       "      <td>2</td>\n",
       "      <td>76022</td>\n",
       "      <td>82</td>\n",
       "      <td>3563363</td>\n",
       "      <td>209859</td>\n",
       "      <td>42238</td>\n",
       "      <td>-0.229016</td>\n",
       "    </tr>\n",
       "    <tr>\n",
       "      <th>2</th>\n",
       "      <td>2944</td>\n",
       "      <td>113</td>\n",
       "      <td>65701</td>\n",
       "      <td>POLYGON ((501006.0312499983 2148019.750066887,...</td>\n",
       "      <td>3</td>\n",
       "      <td>10611</td>\n",
       "      <td>72</td>\n",
       "      <td>3128496</td>\n",
       "      <td>66706</td>\n",
       "      <td>26003</td>\n",
       "      <td>-0.314356</td>\n",
       "    </tr>\n",
       "    <tr>\n",
       "      <th>3</th>\n",
       "      <td>2425</td>\n",
       "      <td>131</td>\n",
       "      <td>42385</td>\n",
       "      <td>(POLYGON ((507974.718749986 2125105.250066254,...</td>\n",
       "      <td>4</td>\n",
       "      <td>8468</td>\n",
       "      <td>60</td>\n",
       "      <td>4842162</td>\n",
       "      <td>43106</td>\n",
       "      <td>44080</td>\n",
       "      <td>-0.195138</td>\n",
       "    </tr>\n",
       "    <tr>\n",
       "      <th>4</th>\n",
       "      <td>2849</td>\n",
       "      <td>063</td>\n",
       "      <td>128608</td>\n",
       "      <td>POLYGON ((487190.7500000236 2140396.250066676,...</td>\n",
       "      <td>5</td>\n",
       "      <td>24472</td>\n",
       "      <td>30</td>\n",
       "      <td>4146145</td>\n",
       "      <td>128756</td>\n",
       "      <td>35981</td>\n",
       "      <td>-0.244285</td>\n",
       "    </tr>\n",
       "  </tbody>\n",
       "</table>\n",
       "</div>"
      ],
      "text/plain": [
       "   comercio cve_dist  entrada  \\\n",
       "0      9614      034   201286   \n",
       "1      2905      083   209264   \n",
       "2      2944      113    65701   \n",
       "3      2425      131    42385   \n",
       "4      2849      063   128608   \n",
       "\n",
       "                                            geometry  gid   loop  ocio  \\\n",
       "0  POLYGON ((486947.2187500237 2148842.250066909,...    1  27627    95   \n",
       "1  POLYGON ((478110.2187500393 2134697.250066519,...    2  76022    82   \n",
       "2  POLYGON ((501006.0312499983 2148019.750066887,...    3  10611    72   \n",
       "3  (POLYGON ((507974.718749986 2125105.250066254,...    4   8468    60   \n",
       "4  POLYGON ((487190.7500000236 2140396.250066676,...    5  24472    30   \n",
       "\n",
       "       pob  salida    viv  entropia  \n",
       "0  2125687  200217  32618 -0.501674  \n",
       "1  3563363  209859  42238 -0.229016  \n",
       "2  3128496   66706  26003 -0.314356  \n",
       "3  4842162   43106  44080 -0.195138  \n",
       "4  4146145  128756  35981 -0.244285  "
      ]
     },
     "execution_count": 17,
     "metadata": {},
     "output_type": "execute_result"
    }
   ],
   "source": [
    "datos['entropia'] = entropia\n",
    "datos.head()"
   ]
  },
  {
   "cell_type": "markdown",
   "metadata": {},
   "source": [
    "Ahora que ya tenemos todos los datos, probemos un modelo que nos trate de explicar, por ejemplo, la cantidad de viajes que terminan en cada distrito. Lo primero que vamos a hacer, es explorar la colinearidad de las variables que tenemos:"
   ]
  },
  {
   "cell_type": "code",
   "execution_count": 18,
   "metadata": {
    "collapsed": false
   },
   "outputs": [
    {
     "name": "stdout",
     "output_type": "stream",
     "text": [
      "[ 2.38401396  1.32379486  0.26654834  0.02564285]\n"
     ]
    }
   ],
   "source": [
    "corr = datos[['ocio','comercio','viv','entropia']].corr()\n",
    "w, v = np.linalg.eig(corr)\n",
    "print w"
   ]
  },
  {
   "cell_type": "markdown",
   "metadata": {},
   "source": [
    "Parece ser que, si utilizamos las variables de arriba, vamos a tener problemas de colinearidad, entonces, para seleccionar las variables, observemos la matriz de correlación:"
   ]
  },
  {
   "cell_type": "code",
   "execution_count": 19,
   "metadata": {
    "collapsed": false
   },
   "outputs": [
    {
     "name": "stdout",
     "output_type": "stream",
     "text": [
      "              ocio  comercio       viv  entropia\n",
      "ocio      1.000000  0.714724  0.586546 -0.364044\n",
      "comercio  0.714724  1.000000  0.455756 -0.696061\n",
      "viv       0.586546  0.455756  1.000000  0.272435\n",
      "entropia -0.364044 -0.696061  0.272435  1.000000\n"
     ]
    }
   ],
   "source": [
    "print corr"
   ]
  },
  {
   "cell_type": "markdown",
   "metadata": {},
   "source": [
    "Como puden ver, la entropía está bastante correlacionada con las demás variables, sobre todo con comercio y ocio, seleccionesmos entonces, por lo pronto, entropía y vivienda como variables explicativas.\n",
    "\n",
    "Ahora, antes de correr nuestro modelo, vamos a normalizar las variables porque tiene escalas de variación muy diferentes y ya sabemos que eso nos puede traer problemas:"
   ]
  },
  {
   "cell_type": "code",
   "execution_count": 20,
   "metadata": {
    "collapsed": false
   },
   "outputs": [
    {
     "name": "stdout",
     "output_type": "stream",
     "text": [
      "entrada     2.135044e-18\n",
      "viv         1.978474e-16\n",
      "entropia   -2.052838e-15\n",
      "dtype: float64\n",
      "entrada     1\n",
      "viv         1\n",
      "entropia    1\n",
      "dtype: float64\n"
     ]
    }
   ],
   "source": [
    "variables = datos[['entrada','viv','entropia']]\n",
    "vars_norm = (variables - variables.mean())/variables.std()\n",
    "print vars_norm.mean()\n",
    "print vars_norm.std()"
   ]
  },
  {
   "cell_type": "markdown",
   "metadata": {},
   "source": [
    "Ahora que ya seleccionamos las varibles y las normalizamos, vamos a correr un primer modelo:"
   ]
  },
  {
   "cell_type": "code",
   "execution_count": 21,
   "metadata": {
    "collapsed": false
   },
   "outputs": [
    {
     "name": "stdout",
     "output_type": "stream",
     "text": [
      "                            OLS Regression Results                            \n",
      "==============================================================================\n",
      "Dep. Variable:                entrada   R-squared:                       0.129\n",
      "Model:                            OLS   Adj. R-squared:                  0.118\n",
      "Method:                 Least Squares   F-statistic:                     11.30\n",
      "Date:                Tue, 05 Apr 2016   Prob (F-statistic):           2.65e-05\n",
      "Time:                        13:02:31   Log-Likelihood:                -208.53\n",
      "No. Observations:                 155   AIC:                             423.1\n",
      "Df Residuals:                     152   BIC:                             432.2\n",
      "Df Model:                           2                                         \n",
      "Covariance Type:            nonrobust                                         \n",
      "==============================================================================\n",
      "                 coef    std err          t      P>|t|      [95.0% Conf. Int.]\n",
      "------------------------------------------------------------------------------\n",
      "Intercept      0.0051      0.075      0.068      0.946        -0.144     0.154\n",
      "viv            0.1560      0.080      1.958      0.052        -0.001     0.313\n",
      "entropia      -0.3694      0.079     -4.702      0.000        -0.525    -0.214\n",
      "==============================================================================\n",
      "Omnibus:                       52.029   Durbin-Watson:                   1.944\n",
      "Prob(Omnibus):                  0.000   Jarque-Bera (JB):              130.723\n",
      "Skew:                           1.395   Prob(JB):                     4.11e-29\n",
      "Kurtosis:                       6.530   Cond. No.                         1.32\n",
      "==============================================================================\n",
      "\n",
      "Warnings:\n",
      "[1] Standard Errors assume that the covariance matrix of the errors is correctly specified.\n"
     ]
    }
   ],
   "source": [
    "import statsmodels.formula.api as sm\n",
    "model = sm.ols(formula=\"entrada ~ viv + entropia\",data=vars_norm).fit()\n",
    "print model.summary()"
   ]
  },
  {
   "cell_type": "markdown",
   "metadata": {},
   "source": [
    "### Ejercicio:\n",
    "Especfique diferentes modelos para tratar de explicar las tres variables de viajes."
   ]
  },
  {
   "cell_type": "markdown",
   "metadata": {},
   "source": [
    "Ahora vamos a cambiar la escala del análisis agregando los distritos en unidades más grandes, para hacer esto, primero vamos a crear regionalizaciones al azar a parti de los datos:"
   ]
  },
  {
   "cell_type": "code",
   "execution_count": 22,
   "metadata": {
    "collapsed": false
   },
   "outputs": [
    {
     "name": "stdout",
     "output_type": "stream",
     "text": [
      "Loading data/distritos_variables.dbf\n",
      "Loading data/distritos_variables.shp\n",
      "Done\n",
      "Getting variables\n",
      "Variables successfully extracted\n",
      "FINAL SOLUTION:  [35, 48, 17, 30, 44, 47, 33, 21, 8, 40, 10, 34, 0, 5, 7, 17, 45, 49, 36, 33, 18, 11, 43, 20, 46, 22, 2, 47, 44, 18, 36, 27, 27, 23, 34, 44, 30, 28, 14, 37, 24, 29, 41, 27, 9, 4, 10, 31, 43, 15, 39, 24, 33, 44, 17, 22, 9, 4, 16, 43, 15, 24, 21, 24, 21, 19, 17, 31, 4, 6, 45, 30, 34, 45, 8, 21, 33, 18, 13, 29, 48, 36, 11, 32, 45, 43, 40, 20, 37, 22, 42, 27, 4, 45, 0, 24, 28, 32, 6, 18, 24, 46, 36, 36, 32, 1, 0, 15, 12, 13, 38, 27, 7, 30, 21, 7, 17, 4, 24, 47, 17, 24, 19, 21, 47, 3, 37, 45, 45, 47, 0, 24, 47, 14, 32, 22, 22, 18, 15, 25, 36, 1, 8, 32, 32, 6, 12, 27, 4, 20, 21, 20, 12, 26, 27, 16]\n",
      "FINAL OF:  192306132263.0\n",
      "Done\n",
      "Adding variables\n",
      "Done\n"
     ]
    }
   ],
   "source": [
    "import clusterpy\n",
    "datos_cp = clusterpy.importArcData('data/distritos_variables')\n",
    "datos_cp.cluster('random',['entrada','viv'],50,dissolve=0)"
   ]
  },
  {
   "cell_type": "markdown",
   "metadata": {},
   "source": [
    "Recuerden que para ver las regiones resultantes pueden exportar los resultados como _shapefile_ usando `datos_cp.exportArcData('ruta/para/guardar')`. Por lo pronto omitiremos este paso y más bien vamos a unir el resultado de los clusters a los datos originales para poder hacer algunas operaciones.\n",
    "\n",
    "El primer paso es saber en qué columna guardo el algoritmo los resultados de la regionalización, para esto, vamos a ver qué columnas tiene nuestro objeto:"
   ]
  },
  {
   "cell_type": "code",
   "execution_count": 24,
   "metadata": {
    "collapsed": false
   },
   "outputs": [
    {
     "data": {
      "text/plain": [
       "['ID',\n",
       " 'comercio',\n",
       " 'cve_dist',\n",
       " 'entrada',\n",
       " 'gid',\n",
       " 'loop',\n",
       " 'ocio',\n",
       " 'pob',\n",
       " 'salida',\n",
       " 'viv',\n",
       " 'random_20160405130236']"
      ]
     },
     "execution_count": 24,
     "metadata": {},
     "output_type": "execute_result"
    }
   ],
   "source": [
    "datos_cp.fieldNames"
   ]
  },
  {
   "cell_type": "markdown",
   "metadata": {},
   "source": [
    "Como pueden ver, el algoritmo le pone un nombre al azar a la columna donde va a guardar los resultados, `random_20160405130236`, en este caso.\n",
    "\n",
    "Ahora lo que vamos a hacer es extraer sólo el identificador de distrito y el identificador de región, que es lo que necesitamos para hacer un _merge_ con nuestros datros originales:"
   ]
  },
  {
   "cell_type": "code",
   "execution_count": 25,
   "metadata": {
    "collapsed": false
   },
   "outputs": [
    {
     "name": "stdout",
     "output_type": "stream",
     "text": [
      "Getting variables\n",
      "Variables successfully extracted\n",
      "{0: ['034', 35], 1: ['083', 48], 2: ['113', 17], 3: ['131', 30], 4: ['063', 44], 5: ['135', 47], 6: ['056', 33], 7: ['024', 21], 8: ['060', 8], 9: ['071', 40], 10: ['156', 10], 11: ['149', 34], 12: ['107', 0], 13: ['001', 5], 14: ['098', 7], 15: ['114', 17], 16: ['074', 45], 17: ['032', 49], 18: ['103', 36], 19: ['117', 33], 20: ['061', 18], 21: ['145', 11], 22: ['048', 43], 23: ['104', 20], 24: ['029', 46], 25: ['055', 22], 26: ['150', 2], 27: ['091', 47], 28: ['053', 44], 29: ['079', 18], 30: ['099', 36], 31: ['086', 27], 32: ['009', 27], 33: ['140', 23], 34: ['146', 34], 35: ['037', 44], 36: ['084', 30], 37: ['039', 28], 38: ['022', 14], 39: ['080', 37], 40: ['094', 24], 41: ['151', 29], 42: ['018', 41], 43: ['049', 27], 44: ['010', 9], 45: ['043', 4], 46: ['153', 10], 47: ['096', 31], 48: ['008', 43], 49: ['072', 15], 50: ['155', 39], 51: ['015', 24], 52: ['126', 33], 53: ['052', 44], 54: ['144', 17], 55: ['118', 22], 56: ['092', 9], 57: ['042', 4], 58: ['139', 16], 59: ['044', 43], 60: ['085', 15], 61: ['013', 24], 62: ['036', 21], 63: ['016', 24], 64: ['110', 21], 65: ['027', 19], 66: ['119', 17], 67: ['020', 31], 68: ['041', 4], 69: ['006', 6], 70: ['127', 45], 71: ['078', 30], 72: ['147', 34], 73: ['132', 45], 74: ['076', 8], 75: ['033', 21], 76: ['058', 33], 77: ['062', 18], 78: ['066', 13], 79: ['152', 29], 80: ['046', 48], 81: ['108', 36], 82: ['129', 11], 83: ['116', 32], 84: ['128', 45], 85: ['047', 43], 86: ['082', 40], 87: ['101', 20], 88: ['069', 37], 89: ['054', 22], 90: ['154', 42], 91: ['073', 27], 92: ['068', 4], 93: ['057', 45], 94: ['143', 0], 95: ['011', 24], 96: ['038', 28], 97: ['124', 32], 98: ['003', 6], 99: ['064', 18], 100: ['014', 24], 101: ['028', 46], 102: ['105', 36], 103: ['109', 36], 104: ['121', 32], 105: ['005', 1], 106: ['142', 0], 107: ['088', 15], 108: ['136', 12], 109: ['067', 13], 110: ['031', 38], 111: ['051', 27], 112: ['021', 7], 113: ['081', 30], 114: ['025', 21], 115: ['097', 7], 116: ['125', 17], 117: ['007', 4], 118: ['012', 24], 119: ['089', 47], 120: ['112', 17], 121: ['017', 24], 122: ['026', 19], 123: ['111', 21], 124: ['134', 47], 125: ['030', 3], 126: ['065', 37], 127: ['133', 45], 128: ['130', 45], 129: ['093', 47], 130: ['141', 0], 131: ['095', 24], 132: ['090', 47], 133: ['023', 14], 134: ['115', 32], 135: ['120', 22], 136: ['059', 22], 137: ['077', 18], 138: ['087', 15], 139: ['045', 25], 140: ['102', 36], 141: ['004', 1], 142: ['075', 8], 143: ['122', 32], 144: ['123', 32], 145: ['002', 6], 146: ['137', 12], 147: ['070', 27], 148: ['040', 4], 149: ['100', 20], 150: ['035', 21], 151: ['106', 20], 152: ['138', 12], 153: ['019', 26], 154: ['050', 27], 155: ['148', 16]}\n"
     ]
    }
   ],
   "source": [
    "resultado = datos_cp.getVars(['cve_dist','random_20160405130236'])\n",
    "print resultado"
   ]
  },
  {
   "cell_type": "markdown",
   "metadata": {},
   "source": [
    "El resultado es un _diccionario_, es decir, un conjunto de parejas _llave : valor_, en este caso las llaves son el id de los polígonos y los valores son la clave del distrito y el identificador de la región. Como queremos unir estos resultados con nuestros datos originales, necesitamos convertirlos en un **DataFrame**, afortunadamete esto es relativamente fácil:"
   ]
  },
  {
   "cell_type": "code",
   "execution_count": 28,
   "metadata": {
    "collapsed": false
   },
   "outputs": [
    {
     "data": {
      "text/html": [
       "<div>\n",
       "<table border=\"1\" class=\"dataframe\">\n",
       "  <thead>\n",
       "    <tr style=\"text-align: right;\">\n",
       "      <th></th>\n",
       "      <th>0</th>\n",
       "      <th>1</th>\n",
       "      <th>2</th>\n",
       "      <th>3</th>\n",
       "      <th>4</th>\n",
       "      <th>5</th>\n",
       "      <th>6</th>\n",
       "      <th>7</th>\n",
       "      <th>8</th>\n",
       "      <th>9</th>\n",
       "      <th>...</th>\n",
       "      <th>146</th>\n",
       "      <th>147</th>\n",
       "      <th>148</th>\n",
       "      <th>149</th>\n",
       "      <th>150</th>\n",
       "      <th>151</th>\n",
       "      <th>152</th>\n",
       "      <th>153</th>\n",
       "      <th>154</th>\n",
       "      <th>155</th>\n",
       "    </tr>\n",
       "  </thead>\n",
       "  <tbody>\n",
       "    <tr>\n",
       "      <th>0</th>\n",
       "      <td>034</td>\n",
       "      <td>083</td>\n",
       "      <td>113</td>\n",
       "      <td>131</td>\n",
       "      <td>063</td>\n",
       "      <td>135</td>\n",
       "      <td>056</td>\n",
       "      <td>024</td>\n",
       "      <td>060</td>\n",
       "      <td>071</td>\n",
       "      <td>...</td>\n",
       "      <td>137</td>\n",
       "      <td>070</td>\n",
       "      <td>040</td>\n",
       "      <td>100</td>\n",
       "      <td>035</td>\n",
       "      <td>106</td>\n",
       "      <td>138</td>\n",
       "      <td>019</td>\n",
       "      <td>050</td>\n",
       "      <td>148</td>\n",
       "    </tr>\n",
       "    <tr>\n",
       "      <th>1</th>\n",
       "      <td>35</td>\n",
       "      <td>48</td>\n",
       "      <td>17</td>\n",
       "      <td>30</td>\n",
       "      <td>44</td>\n",
       "      <td>47</td>\n",
       "      <td>33</td>\n",
       "      <td>21</td>\n",
       "      <td>8</td>\n",
       "      <td>40</td>\n",
       "      <td>...</td>\n",
       "      <td>12</td>\n",
       "      <td>27</td>\n",
       "      <td>4</td>\n",
       "      <td>20</td>\n",
       "      <td>21</td>\n",
       "      <td>20</td>\n",
       "      <td>12</td>\n",
       "      <td>26</td>\n",
       "      <td>27</td>\n",
       "      <td>16</td>\n",
       "    </tr>\n",
       "  </tbody>\n",
       "</table>\n",
       "<p>2 rows × 156 columns</p>\n",
       "</div>"
      ],
      "text/plain": [
       "   0    1    2    3    4    5    6    7    8    9   ...   146  147  148  149  \\\n",
       "0  034  083  113  131  063  135  056  024  060  071 ...   137  070  040  100   \n",
       "1   35   48   17   30   44   47   33   21    8   40 ...    12   27    4   20   \n",
       "\n",
       "   150  151  152  153  154  155  \n",
       "0  035  106  138  019  050  148  \n",
       "1   21   20   12   26   27   16  \n",
       "\n",
       "[2 rows x 156 columns]"
      ]
     },
     "execution_count": 28,
     "metadata": {},
     "output_type": "execute_result"
    }
   ],
   "source": [
    "import pandas as pd\n",
    "df = pd.DataFrame(resultado)\n",
    "df.head()"
   ]
  },
  {
   "cell_type": "markdown",
   "metadata": {},
   "source": [
    "Casi lo logramos, el único problema es que los datos están \"al revés\", es decir renglones y columnas están intercambiados. Lo que necesitamos es trasponerlos:º"
   ]
  },
  {
   "cell_type": "code",
   "execution_count": 29,
   "metadata": {
    "collapsed": false
   },
   "outputs": [
    {
     "data": {
      "text/html": [
       "<div>\n",
       "<table border=\"1\" class=\"dataframe\">\n",
       "  <thead>\n",
       "    <tr style=\"text-align: right;\">\n",
       "      <th></th>\n",
       "      <th>0</th>\n",
       "      <th>1</th>\n",
       "    </tr>\n",
       "  </thead>\n",
       "  <tbody>\n",
       "    <tr>\n",
       "      <th>0</th>\n",
       "      <td>034</td>\n",
       "      <td>35</td>\n",
       "    </tr>\n",
       "    <tr>\n",
       "      <th>1</th>\n",
       "      <td>083</td>\n",
       "      <td>48</td>\n",
       "    </tr>\n",
       "    <tr>\n",
       "      <th>2</th>\n",
       "      <td>113</td>\n",
       "      <td>17</td>\n",
       "    </tr>\n",
       "    <tr>\n",
       "      <th>3</th>\n",
       "      <td>131</td>\n",
       "      <td>30</td>\n",
       "    </tr>\n",
       "    <tr>\n",
       "      <th>4</th>\n",
       "      <td>063</td>\n",
       "      <td>44</td>\n",
       "    </tr>\n",
       "  </tbody>\n",
       "</table>\n",
       "</div>"
      ],
      "text/plain": [
       "     0   1\n",
       "0  034  35\n",
       "1  083  48\n",
       "2  113  17\n",
       "3  131  30\n",
       "4  063  44"
      ]
     },
     "execution_count": 29,
     "metadata": {},
     "output_type": "execute_result"
    }
   ],
   "source": [
    "df = df.transpose()\n",
    "df.head()"
   ]
  },
  {
   "cell_type": "markdown",
   "metadata": {},
   "source": [
    "Ahora pongámosle nombre a las columnas, la primera es el identificador de distrito y la segunda el de región:"
   ]
  },
  {
   "cell_type": "code",
   "execution_count": 31,
   "metadata": {
    "collapsed": false
   },
   "outputs": [
    {
     "data": {
      "text/html": [
       "<div>\n",
       "<table border=\"1\" class=\"dataframe\">\n",
       "  <thead>\n",
       "    <tr style=\"text-align: right;\">\n",
       "      <th></th>\n",
       "      <th>cve_dist</th>\n",
       "      <th>id_region</th>\n",
       "    </tr>\n",
       "  </thead>\n",
       "  <tbody>\n",
       "    <tr>\n",
       "      <th>0</th>\n",
       "      <td>034</td>\n",
       "      <td>35</td>\n",
       "    </tr>\n",
       "    <tr>\n",
       "      <th>1</th>\n",
       "      <td>083</td>\n",
       "      <td>48</td>\n",
       "    </tr>\n",
       "    <tr>\n",
       "      <th>2</th>\n",
       "      <td>113</td>\n",
       "      <td>17</td>\n",
       "    </tr>\n",
       "    <tr>\n",
       "      <th>3</th>\n",
       "      <td>131</td>\n",
       "      <td>30</td>\n",
       "    </tr>\n",
       "    <tr>\n",
       "      <th>4</th>\n",
       "      <td>063</td>\n",
       "      <td>44</td>\n",
       "    </tr>\n",
       "  </tbody>\n",
       "</table>\n",
       "</div>"
      ],
      "text/plain": [
       "  cve_dist id_region\n",
       "0      034        35\n",
       "1      083        48\n",
       "2      113        17\n",
       "3      131        30\n",
       "4      063        44"
      ]
     },
     "execution_count": 31,
     "metadata": {},
     "output_type": "execute_result"
    }
   ],
   "source": [
    "df.columns=['cve_dist','id_region']\n",
    "df.head()"
   ]
  },
  {
   "cell_type": "markdown",
   "metadata": {},
   "source": [
    "Ahora sí podemos hacer un _merge_ con los datos originales:"
   ]
  },
  {
   "cell_type": "code",
   "execution_count": 32,
   "metadata": {
    "collapsed": false,
    "scrolled": true
   },
   "outputs": [
    {
     "data": {
      "text/html": [
       "<div>\n",
       "<table border=\"1\" class=\"dataframe\">\n",
       "  <thead>\n",
       "    <tr style=\"text-align: right;\">\n",
       "      <th></th>\n",
       "      <th>comercio</th>\n",
       "      <th>cve_dist</th>\n",
       "      <th>entrada</th>\n",
       "      <th>geometry</th>\n",
       "      <th>gid</th>\n",
       "      <th>loop</th>\n",
       "      <th>ocio</th>\n",
       "      <th>pob</th>\n",
       "      <th>salida</th>\n",
       "      <th>viv</th>\n",
       "      <th>entropia</th>\n",
       "      <th>id_region</th>\n",
       "    </tr>\n",
       "  </thead>\n",
       "  <tbody>\n",
       "    <tr>\n",
       "      <th>0</th>\n",
       "      <td>9614</td>\n",
       "      <td>034</td>\n",
       "      <td>201286</td>\n",
       "      <td>POLYGON ((486947.2187500237 2148842.250066909,...</td>\n",
       "      <td>1</td>\n",
       "      <td>27627</td>\n",
       "      <td>95</td>\n",
       "      <td>2125687</td>\n",
       "      <td>200217</td>\n",
       "      <td>32618</td>\n",
       "      <td>-0.501674</td>\n",
       "      <td>35</td>\n",
       "    </tr>\n",
       "    <tr>\n",
       "      <th>1</th>\n",
       "      <td>2905</td>\n",
       "      <td>083</td>\n",
       "      <td>209264</td>\n",
       "      <td>POLYGON ((478110.2187500393 2134697.250066519,...</td>\n",
       "      <td>2</td>\n",
       "      <td>76022</td>\n",
       "      <td>82</td>\n",
       "      <td>3563363</td>\n",
       "      <td>209859</td>\n",
       "      <td>42238</td>\n",
       "      <td>-0.229016</td>\n",
       "      <td>48</td>\n",
       "    </tr>\n",
       "    <tr>\n",
       "      <th>2</th>\n",
       "      <td>2944</td>\n",
       "      <td>113</td>\n",
       "      <td>65701</td>\n",
       "      <td>POLYGON ((501006.0312499983 2148019.750066887,...</td>\n",
       "      <td>3</td>\n",
       "      <td>10611</td>\n",
       "      <td>72</td>\n",
       "      <td>3128496</td>\n",
       "      <td>66706</td>\n",
       "      <td>26003</td>\n",
       "      <td>-0.314356</td>\n",
       "      <td>17</td>\n",
       "    </tr>\n",
       "    <tr>\n",
       "      <th>3</th>\n",
       "      <td>2425</td>\n",
       "      <td>131</td>\n",
       "      <td>42385</td>\n",
       "      <td>(POLYGON ((507974.718749986 2125105.250066254,...</td>\n",
       "      <td>4</td>\n",
       "      <td>8468</td>\n",
       "      <td>60</td>\n",
       "      <td>4842162</td>\n",
       "      <td>43106</td>\n",
       "      <td>44080</td>\n",
       "      <td>-0.195138</td>\n",
       "      <td>30</td>\n",
       "    </tr>\n",
       "    <tr>\n",
       "      <th>4</th>\n",
       "      <td>2849</td>\n",
       "      <td>063</td>\n",
       "      <td>128608</td>\n",
       "      <td>POLYGON ((487190.7500000236 2140396.250066676,...</td>\n",
       "      <td>5</td>\n",
       "      <td>24472</td>\n",
       "      <td>30</td>\n",
       "      <td>4146145</td>\n",
       "      <td>128756</td>\n",
       "      <td>35981</td>\n",
       "      <td>-0.244285</td>\n",
       "      <td>44</td>\n",
       "    </tr>\n",
       "  </tbody>\n",
       "</table>\n",
       "</div>"
      ],
      "text/plain": [
       "   comercio cve_dist  entrada  \\\n",
       "0      9614      034   201286   \n",
       "1      2905      083   209264   \n",
       "2      2944      113    65701   \n",
       "3      2425      131    42385   \n",
       "4      2849      063   128608   \n",
       "\n",
       "                                            geometry  gid   loop  ocio  \\\n",
       "0  POLYGON ((486947.2187500237 2148842.250066909,...    1  27627    95   \n",
       "1  POLYGON ((478110.2187500393 2134697.250066519,...    2  76022    82   \n",
       "2  POLYGON ((501006.0312499983 2148019.750066887,...    3  10611    72   \n",
       "3  (POLYGON ((507974.718749986 2125105.250066254,...    4   8468    60   \n",
       "4  POLYGON ((487190.7500000236 2140396.250066676,...    5  24472    30   \n",
       "\n",
       "       pob  salida    viv  entropia id_region  \n",
       "0  2125687  200217  32618 -0.501674        35  \n",
       "1  3563363  209859  42238 -0.229016        48  \n",
       "2  3128496   66706  26003 -0.314356        17  \n",
       "3  4842162   43106  44080 -0.195138        30  \n",
       "4  4146145  128756  35981 -0.244285        44  "
      ]
     },
     "execution_count": 32,
     "metadata": {},
     "output_type": "execute_result"
    }
   ],
   "source": [
    "region_1 = datos.merge(df,how='inner',on='cve_dist')\n",
    "region_1.head()"
   ]
  },
  {
   "cell_type": "markdown",
   "metadata": {
    "collapsed": true
   },
   "source": [
    "Ahora ya tenemos casi todo lo que necesitamos para correr un nuevo modelo, esta vez sobre las variables agregadas en regiones, lo único que necesitamos es, justamente, calcular las variables agregadas, para esto, vamos a hacer un \"gropup by\":"
   ]
  },
  {
   "cell_type": "code",
   "execution_count": 35,
   "metadata": {
    "collapsed": false
   },
   "outputs": [
    {
     "data": {
      "text/html": [
       "<div>\n",
       "<table border=\"1\" class=\"dataframe\">\n",
       "  <thead>\n",
       "    <tr style=\"text-align: right;\">\n",
       "      <th></th>\n",
       "      <th>comercio</th>\n",
       "      <th>entrada</th>\n",
       "      <th>gid</th>\n",
       "      <th>loop</th>\n",
       "      <th>ocio</th>\n",
       "      <th>pob</th>\n",
       "      <th>salida</th>\n",
       "      <th>viv</th>\n",
       "      <th>entropia</th>\n",
       "    </tr>\n",
       "    <tr>\n",
       "      <th>id_region</th>\n",
       "      <th></th>\n",
       "      <th></th>\n",
       "      <th></th>\n",
       "      <th></th>\n",
       "      <th></th>\n",
       "      <th></th>\n",
       "      <th></th>\n",
       "      <th></th>\n",
       "      <th></th>\n",
       "    </tr>\n",
       "  </thead>\n",
       "  <tbody>\n",
       "    <tr>\n",
       "      <th>0</th>\n",
       "      <td>12876</td>\n",
       "      <td>448433</td>\n",
       "      <td>346</td>\n",
       "      <td>228713</td>\n",
       "      <td>307</td>\n",
       "      <td>23204604</td>\n",
       "      <td>450009</td>\n",
       "      <td>208926</td>\n",
       "      <td>-0.841356</td>\n",
       "    </tr>\n",
       "    <tr>\n",
       "      <th>1</th>\n",
       "      <td>15498</td>\n",
       "      <td>276225</td>\n",
       "      <td>248</td>\n",
       "      <td>14118</td>\n",
       "      <td>150</td>\n",
       "      <td>3346899</td>\n",
       "      <td>275092</td>\n",
       "      <td>57157</td>\n",
       "      <td>-0.841699</td>\n",
       "    </tr>\n",
       "    <tr>\n",
       "      <th>2</th>\n",
       "      <td>7907</td>\n",
       "      <td>123731</td>\n",
       "      <td>27</td>\n",
       "      <td>194316</td>\n",
       "      <td>183</td>\n",
       "      <td>12768687</td>\n",
       "      <td>123594</td>\n",
       "      <td>124519</td>\n",
       "      <td>-0.215108</td>\n",
       "    </tr>\n",
       "    <tr>\n",
       "      <th>3</th>\n",
       "      <td>1638</td>\n",
       "      <td>57328</td>\n",
       "      <td>126</td>\n",
       "      <td>8536</td>\n",
       "      <td>23</td>\n",
       "      <td>1535879</td>\n",
       "      <td>57568</td>\n",
       "      <td>19774</td>\n",
       "      <td>-0.253278</td>\n",
       "    </tr>\n",
       "    <tr>\n",
       "      <th>4</th>\n",
       "      <td>14381</td>\n",
       "      <td>1165711</td>\n",
       "      <td>533</td>\n",
       "      <td>148210</td>\n",
       "      <td>415</td>\n",
       "      <td>11466251</td>\n",
       "      <td>1158579</td>\n",
       "      <td>195706</td>\n",
       "      <td>-1.441266</td>\n",
       "    </tr>\n",
       "  </tbody>\n",
       "</table>\n",
       "</div>"
      ],
      "text/plain": [
       "           comercio  entrada  gid    loop  ocio       pob   salida     viv  \\\n",
       "id_region                                                                    \n",
       "0             12876   448433  346  228713   307  23204604   450009  208926   \n",
       "1             15498   276225  248   14118   150   3346899   275092   57157   \n",
       "2              7907   123731   27  194316   183  12768687   123594  124519   \n",
       "3              1638    57328  126    8536    23   1535879    57568   19774   \n",
       "4             14381  1165711  533  148210   415  11466251  1158579  195706   \n",
       "\n",
       "           entropia  \n",
       "id_region            \n",
       "0         -0.841356  \n",
       "1         -0.841699  \n",
       "2         -0.215108  \n",
       "3         -0.253278  \n",
       "4         -1.441266  "
      ]
     },
     "execution_count": 35,
     "metadata": {},
     "output_type": "execute_result"
    }
   ],
   "source": [
    "agregados = region_1.groupby(by='id_region').sum()\n",
    "agregados.head()"
   ]
  },
  {
   "cell_type": "markdown",
   "metadata": {},
   "source": [
    "Aquí simplemente agrupamos los datos por su id de región y calculamos la suma de las variables sobre cada grupo.\n",
    "\n",
    "Sólo hay un problema, la entropía quedo calculada como la suma de las entropías individuales y eso no nos sirve, necesitamos volver a calcularla:"
   ]
  },
  {
   "cell_type": "code",
   "execution_count": 37,
   "metadata": {
    "collapsed": false
   },
   "outputs": [
    {
     "data": {
      "text/html": [
       "<div>\n",
       "<table border=\"1\" class=\"dataframe\">\n",
       "  <thead>\n",
       "    <tr style=\"text-align: right;\">\n",
       "      <th></th>\n",
       "      <th>comercio</th>\n",
       "      <th>entrada</th>\n",
       "      <th>gid</th>\n",
       "      <th>loop</th>\n",
       "      <th>ocio</th>\n",
       "      <th>pob</th>\n",
       "      <th>salida</th>\n",
       "      <th>viv</th>\n",
       "      <th>entropia</th>\n",
       "    </tr>\n",
       "    <tr>\n",
       "      <th>id_region</th>\n",
       "      <th></th>\n",
       "      <th></th>\n",
       "      <th></th>\n",
       "      <th></th>\n",
       "      <th></th>\n",
       "      <th></th>\n",
       "      <th></th>\n",
       "      <th></th>\n",
       "      <th></th>\n",
       "    </tr>\n",
       "  </thead>\n",
       "  <tbody>\n",
       "    <tr>\n",
       "      <th>0</th>\n",
       "      <td>12876</td>\n",
       "      <td>448433</td>\n",
       "      <td>346</td>\n",
       "      <td>228713</td>\n",
       "      <td>307</td>\n",
       "      <td>23204604</td>\n",
       "      <td>450009</td>\n",
       "      <td>208926</td>\n",
       "      <td>-0.210947</td>\n",
       "    </tr>\n",
       "    <tr>\n",
       "      <th>1</th>\n",
       "      <td>15498</td>\n",
       "      <td>276225</td>\n",
       "      <td>248</td>\n",
       "      <td>14118</td>\n",
       "      <td>150</td>\n",
       "      <td>3346899</td>\n",
       "      <td>275092</td>\n",
       "      <td>57157</td>\n",
       "      <td>-0.484285</td>\n",
       "    </tr>\n",
       "    <tr>\n",
       "      <th>2</th>\n",
       "      <td>7907</td>\n",
       "      <td>123731</td>\n",
       "      <td>27</td>\n",
       "      <td>194316</td>\n",
       "      <td>183</td>\n",
       "      <td>12768687</td>\n",
       "      <td>123594</td>\n",
       "      <td>124519</td>\n",
       "      <td>-0.215108</td>\n",
       "    </tr>\n",
       "    <tr>\n",
       "      <th>3</th>\n",
       "      <td>1638</td>\n",
       "      <td>57328</td>\n",
       "      <td>126</td>\n",
       "      <td>8536</td>\n",
       "      <td>23</td>\n",
       "      <td>1535879</td>\n",
       "      <td>57568</td>\n",
       "      <td>19774</td>\n",
       "      <td>-0.253278</td>\n",
       "    </tr>\n",
       "    <tr>\n",
       "      <th>4</th>\n",
       "      <td>14381</td>\n",
       "      <td>1165711</td>\n",
       "      <td>533</td>\n",
       "      <td>148210</td>\n",
       "      <td>415</td>\n",
       "      <td>11466251</td>\n",
       "      <td>1158579</td>\n",
       "      <td>195706</td>\n",
       "      <td>-0.239735</td>\n",
       "    </tr>\n",
       "  </tbody>\n",
       "</table>\n",
       "</div>"
      ],
      "text/plain": [
       "           comercio  entrada  gid    loop  ocio       pob   salida     viv  \\\n",
       "id_region                                                                    \n",
       "0             12876   448433  346  228713   307  23204604   450009  208926   \n",
       "1             15498   276225  248   14118   150   3346899   275092   57157   \n",
       "2              7907   123731   27  194316   183  12768687   123594  124519   \n",
       "3              1638    57328  126    8536    23   1535879    57568   19774   \n",
       "4             14381  1165711  533  148210   415  11466251  1158579  195706   \n",
       "\n",
       "           entropia  \n",
       "id_region            \n",
       "0         -0.210947  \n",
       "1         -0.484285  \n",
       "2         -0.215108  \n",
       "3         -0.253278  \n",
       "4         -0.239735  "
      ]
     },
     "execution_count": 37,
     "metadata": {},
     "output_type": "execute_result"
    }
   ],
   "source": [
    "intensidad = agregados['comercio'] + agregados['viv'] + agregados['ocio']\n",
    "prop_comercio = agregados['comercio'] / intensidad\n",
    "prop_viv = agregados['viv'] / intensidad\n",
    "prop_ocio = agregados['ocio'] / intensidad\n",
    "entropia = (prop_comercio*np.log(prop_comercio) + prop_viv*np.log(prop_viv) + prop_ocio*np.log(prop_ocio))/np.log(3)\n",
    "agregados.ix[:,'entropia']= entropia\n",
    "agregados.head()"
   ]
  },
  {
   "cell_type": "markdown",
   "metadata": {},
   "source": [
    "Ahora sí, podemos correr el mismo modelo de antes pero sobre nuestros datos agregados:"
   ]
  },
  {
   "cell_type": "code",
   "execution_count": 38,
   "metadata": {
    "collapsed": false
   },
   "outputs": [
    {
     "name": "stdout",
     "output_type": "stream",
     "text": [
      "                            OLS Regression Results                            \n",
      "==============================================================================\n",
      "Dep. Variable:                entrada   R-squared:                       0.479\n",
      "Model:                            OLS   Adj. R-squared:                  0.457\n",
      "Method:                 Least Squares   F-statistic:                     21.17\n",
      "Date:                Tue, 05 Apr 2016   Prob (F-statistic):           3.03e-07\n",
      "Time:                        13:49:03   Log-Likelihood:                -661.50\n",
      "No. Observations:                  49   AIC:                             1329.\n",
      "Df Residuals:                      46   BIC:                             1335.\n",
      "Df Model:                           2                                         \n",
      "Covariance Type:            nonrobust                                         \n",
      "==============================================================================\n",
      "                 coef    std err          t      P>|t|      [95.0% Conf. Int.]\n",
      "------------------------------------------------------------------------------\n",
      "Intercept  -1.015e+05   1.12e+05     -0.903      0.371     -3.28e+05  1.25e+05\n",
      "viv            2.3358      0.359      6.505      0.000         1.613     3.059\n",
      "entropia   -6.592e+05   3.35e+05     -1.967      0.055     -1.33e+06  1.55e+04\n",
      "==============================================================================\n",
      "Omnibus:                       21.293   Durbin-Watson:                   1.848\n",
      "Prob(Omnibus):                  0.000   Jarque-Bera (JB):               33.032\n",
      "Skew:                           1.387   Prob(JB):                     6.72e-08\n",
      "Kurtosis:                       5.914   Cond. No.                     1.91e+06\n",
      "==============================================================================\n",
      "\n",
      "Warnings:\n",
      "[1] Standard Errors assume that the covariance matrix of the errors is correctly specified.\n",
      "[2] The condition number is large, 1.91e+06. This might indicate that there are\n",
      "strong multicollinearity or other numerical problems.\n"
     ]
    }
   ],
   "source": [
    "model = sm.ols(formula=\"entrada ~ viv + entropia\",data=agregados).fit()\n",
    "print model.summary()"
   ]
  },
  {
   "cell_type": "markdown",
   "metadata": {},
   "source": []
  }
 ],
 "metadata": {
  "kernelspec": {
   "display_name": "Python 2",
   "language": "python",
   "name": "python2"
  },
  "language_info": {
   "codemirror_mode": {
    "name": "ipython",
    "version": 2
   },
   "file_extension": ".py",
   "mimetype": "text/x-python",
   "name": "python",
   "nbconvert_exporter": "python",
   "pygments_lexer": "ipython2",
   "version": "2.7.10"
  }
 },
 "nbformat": 4,
 "nbformat_minor": 0
}
