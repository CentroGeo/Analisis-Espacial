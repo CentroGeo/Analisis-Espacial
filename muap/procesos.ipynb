{
 "cells": [
  {
   "cell_type": "code",
   "execution_count": 12,
   "metadata": {
    "collapsed": false
   },
   "outputs": [
    {
     "name": "stdout",
     "output_type": "stream",
     "text": [
      "Loading data/distritos_variables.dbf\n",
      "Loading data/distritos_variables.shp\n",
      "Done\n",
      "Getting variables\n",
      "Variables successfully extracted\n",
      "Running original Arisel algorithm\n",
      "Number of areas:  156\n",
      "Number of regions:  50\n",
      "initial Solution:  [25, 25, 29, 21, 38, 2, 34, 38, 30, 28, 27, 12, 24, 42, 30, 39, 29, 44, 10, 15, 38, 16, 21, 0, 48, 30, 5, 1, 49, 6, 16, 15, 20, 18, 24, 6, 16, 8, 6, 15, 33, 49, 14, 30, 15, 35, 30, 20, 14, 25, 26, 39, 7, 43, 24, 49, 17, 38, 4, 29, 14, 25, 47, 0, 11, 36, 25, 29, 39, 25, 21, 16, 34, 31, 44, 25, 32, 23, 33, 3, 27, 42, 21, 29, 9, 40, 46, 25, 25, 29, 38, 48, 20, 25, 49, 21, 45, 25, 21, 25, 16, 49, 15, 45, 29, 35, 22, 13, 37, 41, 21, 30, 25, 30, 40, 39, 46, 30, 7, 13, 19, 21, 25, 36, 30, 25, 30, 33, 21, 21, 29, 49, 22, 49, 41, 15, 38, 28, 16, 13, 25, 15, 30, 4, 15, 38, 21, 25, 47, 27, 25, 45, 47, 15, 20, 47]\n",
      "initial O.F:  3540007005.0\n",
      "FINAL SOLUTION:  [25, 25, 29, 21, 38, 2, 34, 38, 30, 23, 40, 12, 24, 35, 30, 39, 29, 44, 10, 15, 38, 16, 21, 0, 48, 30, 5, 1, 49, 6, 16, 15, 20, 18, 24, 6, 21, 8, 6, 15, 25, 49, 14, 30, 15, 35, 30, 20, 14, 25, 26, 39, 7, 43, 24, 49, 17, 38, 4, 29, 14, 25, 47, 25, 11, 36, 25, 29, 39, 25, 21, 21, 34, 31, 44, 25, 28, 23, 33, 3, 27, 35, 21, 29, 9, 0, 46, 15, 25, 29, 38, 48, 20, 25, 49, 32, 45, 25, 21, 25, 16, 49, 15, 39, 29, 35, 42, 13, 37, 41, 21, 30, 25, 30, 0, 39, 46, 30, 7, 13, 19, 21, 25, 36, 30, 15, 30, 33, 21, 31, 29, 49, 22, 49, 49, 15, 38, 23, 16, 13, 25, 15, 30, 4, 15, 38, 4, 25, 47, 40, 38, 39, 47, 15, 20, 24]\n",
      "FINAL OF:  2383192095.0\n",
      "Done\n",
      "Adding variables\n",
      "Done\n"
     ]
    },
    {
     "data": {
      "text/plain": [
       "['ID',\n",
       " 'comercio',\n",
       " 'cve_dist',\n",
       " 'entrada',\n",
       " 'gid',\n",
       " 'id',\n",
       " 'loop',\n",
       " 'ocio',\n",
       " 'pob',\n",
       " 'salida',\n",
       " 'servicios',\n",
       " 'viv',\n",
       " 'arisel_20160406114543']"
      ]
     },
     "execution_count": 12,
     "metadata": {},
     "output_type": "execute_result"
    }
   ],
   "source": [
    "import clusterpy\n",
    "datos = clusterpy.importArcData('data/distritos_variables')\n",
    "datos.cluster('arisel', ['viv'], 50, wType='rook', inits=10, dissolve=0)\n",
    "datos.fieldNames"
   ]
  },
  {
   "cell_type": "code",
   "execution_count": 13,
   "metadata": {
    "collapsed": false
   },
   "outputs": [
    {
     "name": "stdout",
     "output_type": "stream",
     "text": [
      "Getting variables\n",
      "Variables successfully extracted\n",
      "Running original Arisel algorithm\n",
      "Number of areas:  156\n",
      "Number of regions:  50\n",
      "initial Solution:  [16, 20, 43, 42, 20, 11, 9, 43, 7, 31, 45, 36, 4, 10, 1, 36, 43, 42, 32, 36, 43, 26, 42, 15, 38, 7, 43, 6, 13, 8, 39, 36, 11, 21, 14, 20, 39, 20, 20, 13, 20, 13, 24, 7, 13, 10, 13, 23, 11, 20, 36, 13, 3, 13, 4, 13, 0, 20, 5, 43, 13, 28, 4, 15, 13, 13, 3, 43, 13, 45, 42, 42, 4, 18, 42, 20, 40, 26, 41, 10, 35, 36, 25, 43, 0, 45, 39, 38, 41, 7, 20, 36, 23, 20, 13, 40, 12, 20, 25, 19, 41, 13, 22, 36, 7, 34, 49, 13, 37, 2, 17, 1, 20, 7, 45, 36, 39, 32, 13, 13, 2, 25, 20, 13, 7, 7, 7, 41, 47, 48, 43, 2, 49, 13, 2, 36, 43, 40, 29, 13, 45, 27, 13, 44, 33, 20, 0, 3, 4, 45, 20, 36, 4, 13, 30, 46]\n",
      "initial O.F:  24936479.0\n",
      "FINAL SOLUTION:  [16, 20, 43, 42, 20, 11, 9, 43, 7, 31, 45, 36, 4, 10, 1, 36, 43, 42, 32, 33, 43, 26, 42, 15, 38, 20, 43, 6, 13, 8, 39, 36, 23, 21, 14, 20, 39, 20, 20, 13, 20, 24, 2, 7, 13, 10, 13, 23, 11, 20, 36, 13, 3, 13, 4, 24, 0, 20, 44, 43, 13, 28, 4, 15, 13, 24, 3, 43, 13, 45, 42, 42, 9, 18, 42, 20, 29, 26, 41, 10, 35, 36, 25, 43, 0, 45, 39, 33, 41, 20, 20, 5, 23, 20, 13, 40, 12, 20, 25, 19, 41, 24, 22, 36, 7, 34, 10, 13, 37, 2, 17, 1, 20, 20, 45, 36, 39, 32, 13, 13, 2, 25, 20, 13, 7, 7, 7, 41, 47, 48, 43, 2, 49, 13, 2, 33, 43, 29, 29, 13, 45, 27, 13, 44, 33, 43, 0, 3, 9, 45, 20, 33, 4, 36, 30, 46]\n",
      "FINAL OF:  20005070.0\n",
      "Done\n",
      "Adding variables\n",
      "Done\n"
     ]
    },
    {
     "data": {
      "text/plain": [
       "['ID',\n",
       " 'comercio',\n",
       " 'cve_dist',\n",
       " 'entrada',\n",
       " 'gid',\n",
       " 'id',\n",
       " 'loop',\n",
       " 'ocio',\n",
       " 'pob',\n",
       " 'salida',\n",
       " 'servicios',\n",
       " 'viv',\n",
       " 'arisel_20160406114543',\n",
       " 'arisel_20160406114812']"
      ]
     },
     "execution_count": 13,
     "metadata": {},
     "output_type": "execute_result"
    }
   ],
   "source": [
    "datos.cluster('arisel', ['comercio'], 50, wType='rook', inits=10, dissolve=0)\n",
    "datos.fieldNames"
   ]
  },
  {
   "cell_type": "code",
   "execution_count": 14,
   "metadata": {
    "collapsed": false
   },
   "outputs": [
    {
     "name": "stdout",
     "output_type": "stream",
     "text": [
      "Getting variables\n",
      "Variables successfully extracted\n",
      "Running original Arisel algorithm\n",
      "Number of areas:  156\n",
      "Number of regions:  50\n",
      "initial Solution:  [20, 4, 15, 23, 2, 0, 39, 37, 21, 2, 49, 31, 46, 8, 5, 48, 18, 27, 29, 18, 15, 37, 34, 49, 18, 21, 24, 8, 26, 16, 23, 48, 0, 8, 7, 10, 23, 10, 10, 48, 4, 47, 47, 21, 38, 18, 22, 0, 42, 20, 31, 47, 11, 49, 13, 47, 25, 16, 18, 15, 42, 19, 39, 6, 49, 43, 20, 15, 48, 12, 9, 23, 39, 27, 23, 10, 37, 28, 30, 31, 49, 18, 36, 17, 9, 6, 33, 18, 30, 15, 2, 31, 49, 3, 47, 27, 48, 10, 40, 32, 28, 47, 32, 48, 15, 18, 8, 0, 39, 39, 40, 32, 14, 10, 49, 48, 33, 29, 35, 39, 48, 40, 20, 47, 21, 41, 21, 28, 27, 9, 15, 39, 8, 45, 39, 48, 2, 37, 33, 0, 19, 48, 43, 40, 48, 10, 18, 1, 39, 49, 44, 18, 39, 22, 0, 46]\n",
      "initial O.F:  26823685414.0\n",
      "FINAL SOLUTION:  [20, 4, 17, 23, 2, 0, 39, 37, 21, 2, 49, 31, 7, 8, 5, 48, 18, 23, 29, 18, 15, 37, 34, 49, 18, 21, 24, 8, 26, 16, 23, 18, 0, 8, 7, 10, 23, 10, 10, 18, 28, 47, 47, 21, 38, 18, 22, 0, 42, 44, 31, 47, 11, 49, 13, 47, 25, 44, 18, 15, 42, 19, 39, 6, 49, 43, 20, 15, 47, 12, 9, 23, 39, 27, 23, 10, 37, 28, 30, 31, 49, 18, 36, 17, 9, 6, 33, 18, 2, 17, 2, 31, 49, 3, 47, 27, 48, 10, 40, 43, 28, 43, 38, 8, 17, 18, 8, 0, 39, 39, 36, 32, 14, 10, 49, 48, 33, 29, 35, 39, 48, 36, 20, 47, 21, 41, 21, 2, 27, 9, 17, 39, 8, 45, 39, 18, 2, 37, 33, 0, 19, 48, 43, 36, 18, 10, 18, 1, 39, 49, 44, 18, 39, 22, 0, 46]\n",
      "FINAL OF:  20259491144.0\n",
      "Done\n",
      "Adding variables\n",
      "Done\n"
     ]
    },
    {
     "data": {
      "text/plain": [
       "['ID',\n",
       " 'comercio',\n",
       " 'cve_dist',\n",
       " 'entrada',\n",
       " 'gid',\n",
       " 'id',\n",
       " 'loop',\n",
       " 'ocio',\n",
       " 'pob',\n",
       " 'salida',\n",
       " 'servicios',\n",
       " 'viv',\n",
       " 'arisel_20160406114543',\n",
       " 'arisel_20160406114812',\n",
       " 'arisel_20160406115125']"
      ]
     },
     "execution_count": 14,
     "metadata": {},
     "output_type": "execute_result"
    }
   ],
   "source": [
    "datos.cluster('arisel', ['entrada'], 50, wType='rook', inits=10, dissolve=0)\n",
    "datos.fieldNames"
   ]
  },
  {
   "cell_type": "code",
   "execution_count": 15,
   "metadata": {
    "collapsed": false
   },
   "outputs": [
    {
     "name": "stdout",
     "output_type": "stream",
     "text": [
      "Writing ESRI files\n",
      "Writing DBF file\n",
      "Done\n",
      "ESRI files created\n"
     ]
    }
   ],
   "source": [
    "datos.exportArcData('data/variables_regiones')"
   ]
  },
  {
   "cell_type": "code",
   "execution_count": 16,
   "metadata": {
    "collapsed": false
   },
   "outputs": [
    {
     "data": {
      "text/plain": [
       "0   -0.443781\n",
       "1   -0.250027\n",
       "2   -0.303138\n",
       "3   -0.178275\n",
       "4   -0.235811\n",
       "dtype: float64"
      ]
     },
     "execution_count": 16,
     "metadata": {},
     "output_type": "execute_result"
    }
   ],
   "source": [
    "from geopandas import GeoDataFrame\n",
    "import numpy as np\n",
    "datos = GeoDataFrame.from_file('data/variables_regiones.shp')\n",
    "intensidad = datos['comercio'] + datos['viv'] + datos['ocio'] + datos['servicios']\n",
    "prop_comercio = datos['comercio'] / intensidad\n",
    "prop_viv = datos['viv'] / intensidad\n",
    "prop_ocio = datos['ocio'] / intensidad\n",
    "prop_servicios = datos['servicios'] / intensidad\n",
    "entropia = (prop_comercio*np.log(prop_comercio) + prop_viv*np.log(prop_viv) + prop_ocio*np.log(prop_ocio)\n",
    "           + prop_servicios*np.log(prop_servicios))/np.log(4)\n",
    "entropia.head()"
   ]
  },
  {
   "cell_type": "code",
   "execution_count": 17,
   "metadata": {
    "collapsed": false
   },
   "outputs": [
    {
     "data": {
      "text/html": [
       "<div>\n",
       "<table border=\"1\" class=\"dataframe\">\n",
       "  <thead>\n",
       "    <tr style=\"text-align: right;\">\n",
       "      <th></th>\n",
       "      <th>ID</th>\n",
       "      <th>comercio</th>\n",
       "      <th>cve_dist</th>\n",
       "      <th>entrada</th>\n",
       "      <th>geometry</th>\n",
       "      <th>gid</th>\n",
       "      <th>id_1</th>\n",
       "      <th>loop</th>\n",
       "      <th>ocio</th>\n",
       "      <th>pob</th>\n",
       "      <th>region_1</th>\n",
       "      <th>region_2</th>\n",
       "      <th>region_3</th>\n",
       "      <th>salida</th>\n",
       "      <th>servicios</th>\n",
       "      <th>viv</th>\n",
       "      <th>entropia</th>\n",
       "    </tr>\n",
       "  </thead>\n",
       "  <tbody>\n",
       "    <tr>\n",
       "      <th>0</th>\n",
       "      <td>1</td>\n",
       "      <td>9614</td>\n",
       "      <td>034</td>\n",
       "      <td>201286</td>\n",
       "      <td>POLYGON ((486947.2187500237 2148842.250066909,...</td>\n",
       "      <td>1</td>\n",
       "      <td>None</td>\n",
       "      <td>27627</td>\n",
       "      <td>95</td>\n",
       "      <td>2125687</td>\n",
       "      <td>25</td>\n",
       "      <td>16</td>\n",
       "      <td>20</td>\n",
       "      <td>200217</td>\n",
       "      <td>579</td>\n",
       "      <td>32618</td>\n",
       "      <td>-0.443781</td>\n",
       "    </tr>\n",
       "    <tr>\n",
       "      <th>1</th>\n",
       "      <td>2</td>\n",
       "      <td>2905</td>\n",
       "      <td>083</td>\n",
       "      <td>209264</td>\n",
       "      <td>POLYGON ((478110.2187500393 2134697.250066519,...</td>\n",
       "      <td>2</td>\n",
       "      <td>None</td>\n",
       "      <td>76022</td>\n",
       "      <td>82</td>\n",
       "      <td>3563363</td>\n",
       "      <td>25</td>\n",
       "      <td>20</td>\n",
       "      <td>4</td>\n",
       "      <td>209859</td>\n",
       "      <td>949</td>\n",
       "      <td>42238</td>\n",
       "      <td>-0.250027</td>\n",
       "    </tr>\n",
       "    <tr>\n",
       "      <th>2</th>\n",
       "      <td>3</td>\n",
       "      <td>2944</td>\n",
       "      <td>113</td>\n",
       "      <td>65701</td>\n",
       "      <td>POLYGON ((501006.0312499983 2148019.750066887,...</td>\n",
       "      <td>3</td>\n",
       "      <td>None</td>\n",
       "      <td>10611</td>\n",
       "      <td>72</td>\n",
       "      <td>3128496</td>\n",
       "      <td>29</td>\n",
       "      <td>43</td>\n",
       "      <td>17</td>\n",
       "      <td>66706</td>\n",
       "      <td>459</td>\n",
       "      <td>26003</td>\n",
       "      <td>-0.303138</td>\n",
       "    </tr>\n",
       "    <tr>\n",
       "      <th>3</th>\n",
       "      <td>4</td>\n",
       "      <td>2425</td>\n",
       "      <td>131</td>\n",
       "      <td>42385</td>\n",
       "      <td>(POLYGON ((507974.718749986 2125105.250066254,...</td>\n",
       "      <td>4</td>\n",
       "      <td>None</td>\n",
       "      <td>8468</td>\n",
       "      <td>60</td>\n",
       "      <td>4842162</td>\n",
       "      <td>21</td>\n",
       "      <td>42</td>\n",
       "      <td>23</td>\n",
       "      <td>43106</td>\n",
       "      <td>256</td>\n",
       "      <td>44080</td>\n",
       "      <td>-0.178275</td>\n",
       "    </tr>\n",
       "    <tr>\n",
       "      <th>4</th>\n",
       "      <td>5</td>\n",
       "      <td>2849</td>\n",
       "      <td>063</td>\n",
       "      <td>128608</td>\n",
       "      <td>POLYGON ((487190.7500000236 2140396.250066676,...</td>\n",
       "      <td>5</td>\n",
       "      <td>None</td>\n",
       "      <td>24472</td>\n",
       "      <td>30</td>\n",
       "      <td>4146145</td>\n",
       "      <td>38</td>\n",
       "      <td>20</td>\n",
       "      <td>2</td>\n",
       "      <td>128756</td>\n",
       "      <td>441</td>\n",
       "      <td>35981</td>\n",
       "      <td>-0.235811</td>\n",
       "    </tr>\n",
       "  </tbody>\n",
       "</table>\n",
       "</div>"
      ],
      "text/plain": [
       "   ID  comercio cve_dist  entrada  \\\n",
       "0   1      9614      034   201286   \n",
       "1   2      2905      083   209264   \n",
       "2   3      2944      113    65701   \n",
       "3   4      2425      131    42385   \n",
       "4   5      2849      063   128608   \n",
       "\n",
       "                                            geometry  gid  id_1   loop  ocio  \\\n",
       "0  POLYGON ((486947.2187500237 2148842.250066909,...    1  None  27627    95   \n",
       "1  POLYGON ((478110.2187500393 2134697.250066519,...    2  None  76022    82   \n",
       "2  POLYGON ((501006.0312499983 2148019.750066887,...    3  None  10611    72   \n",
       "3  (POLYGON ((507974.718749986 2125105.250066254,...    4  None   8468    60   \n",
       "4  POLYGON ((487190.7500000236 2140396.250066676,...    5  None  24472    30   \n",
       "\n",
       "       pob  region_1  region_2  region_3  salida  servicios    viv  entropia  \n",
       "0  2125687        25        16        20  200217        579  32618 -0.443781  \n",
       "1  3563363        25        20         4  209859        949  42238 -0.250027  \n",
       "2  3128496        29        43        17   66706        459  26003 -0.303138  \n",
       "3  4842162        21        42        23   43106        256  44080 -0.178275  \n",
       "4  4146145        38        20         2  128756        441  35981 -0.235811  "
      ]
     },
     "execution_count": 17,
     "metadata": {},
     "output_type": "execute_result"
    }
   ],
   "source": [
    "datos['entropia'] = entropia\n",
    "datos.head()"
   ]
  },
  {
   "cell_type": "code",
   "execution_count": 18,
   "metadata": {
    "collapsed": true
   },
   "outputs": [],
   "source": [
    "datos.to_file('data/variables_regiones.shp')"
   ]
  },
  {
   "cell_type": "code",
   "execution_count": 19,
   "metadata": {
    "collapsed": false
   },
   "outputs": [
    {
     "data": {
      "text/html": [
       "<div>\n",
       "<table border=\"1\" class=\"dataframe\">\n",
       "  <thead>\n",
       "    <tr style=\"text-align: right;\">\n",
       "      <th></th>\n",
       "      <th>ID</th>\n",
       "      <th>comercio</th>\n",
       "      <th>cve_dist</th>\n",
       "      <th>entrada</th>\n",
       "      <th>entropia</th>\n",
       "      <th>geometry</th>\n",
       "      <th>gid</th>\n",
       "      <th>id_1</th>\n",
       "      <th>loop</th>\n",
       "      <th>ocio</th>\n",
       "      <th>pob</th>\n",
       "      <th>region_1</th>\n",
       "      <th>region_2</th>\n",
       "      <th>region_3</th>\n",
       "      <th>salida</th>\n",
       "      <th>servicios</th>\n",
       "      <th>viv</th>\n",
       "    </tr>\n",
       "  </thead>\n",
       "  <tbody>\n",
       "    <tr>\n",
       "      <th>0</th>\n",
       "      <td>1</td>\n",
       "      <td>9614</td>\n",
       "      <td>034</td>\n",
       "      <td>201286</td>\n",
       "      <td>-0.443781</td>\n",
       "      <td>POLYGON ((486947.2187500237 2148842.250066909,...</td>\n",
       "      <td>1</td>\n",
       "      <td>None</td>\n",
       "      <td>27627</td>\n",
       "      <td>95</td>\n",
       "      <td>2125687</td>\n",
       "      <td>25</td>\n",
       "      <td>16</td>\n",
       "      <td>20</td>\n",
       "      <td>200217</td>\n",
       "      <td>579</td>\n",
       "      <td>32618</td>\n",
       "    </tr>\n",
       "    <tr>\n",
       "      <th>1</th>\n",
       "      <td>2</td>\n",
       "      <td>2905</td>\n",
       "      <td>083</td>\n",
       "      <td>209264</td>\n",
       "      <td>-0.250027</td>\n",
       "      <td>POLYGON ((478110.2187500393 2134697.250066519,...</td>\n",
       "      <td>2</td>\n",
       "      <td>None</td>\n",
       "      <td>76022</td>\n",
       "      <td>82</td>\n",
       "      <td>3563363</td>\n",
       "      <td>25</td>\n",
       "      <td>20</td>\n",
       "      <td>4</td>\n",
       "      <td>209859</td>\n",
       "      <td>949</td>\n",
       "      <td>42238</td>\n",
       "    </tr>\n",
       "    <tr>\n",
       "      <th>2</th>\n",
       "      <td>3</td>\n",
       "      <td>2944</td>\n",
       "      <td>113</td>\n",
       "      <td>65701</td>\n",
       "      <td>-0.303138</td>\n",
       "      <td>POLYGON ((501006.0312499983 2148019.750066887,...</td>\n",
       "      <td>3</td>\n",
       "      <td>None</td>\n",
       "      <td>10611</td>\n",
       "      <td>72</td>\n",
       "      <td>3128496</td>\n",
       "      <td>29</td>\n",
       "      <td>43</td>\n",
       "      <td>17</td>\n",
       "      <td>66706</td>\n",
       "      <td>459</td>\n",
       "      <td>26003</td>\n",
       "    </tr>\n",
       "    <tr>\n",
       "      <th>3</th>\n",
       "      <td>4</td>\n",
       "      <td>2425</td>\n",
       "      <td>131</td>\n",
       "      <td>42385</td>\n",
       "      <td>-0.178275</td>\n",
       "      <td>(POLYGON ((507974.718749986 2125105.250066254,...</td>\n",
       "      <td>4</td>\n",
       "      <td>None</td>\n",
       "      <td>8468</td>\n",
       "      <td>60</td>\n",
       "      <td>4842162</td>\n",
       "      <td>21</td>\n",
       "      <td>42</td>\n",
       "      <td>23</td>\n",
       "      <td>43106</td>\n",
       "      <td>256</td>\n",
       "      <td>44080</td>\n",
       "    </tr>\n",
       "    <tr>\n",
       "      <th>4</th>\n",
       "      <td>5</td>\n",
       "      <td>2849</td>\n",
       "      <td>063</td>\n",
       "      <td>128608</td>\n",
       "      <td>-0.235811</td>\n",
       "      <td>POLYGON ((487190.7500000236 2140396.250066676,...</td>\n",
       "      <td>5</td>\n",
       "      <td>None</td>\n",
       "      <td>24472</td>\n",
       "      <td>30</td>\n",
       "      <td>4146145</td>\n",
       "      <td>38</td>\n",
       "      <td>20</td>\n",
       "      <td>2</td>\n",
       "      <td>128756</td>\n",
       "      <td>441</td>\n",
       "      <td>35981</td>\n",
       "    </tr>\n",
       "  </tbody>\n",
       "</table>\n",
       "</div>"
      ],
      "text/plain": [
       "   ID  comercio cve_dist  entrada  entropia  \\\n",
       "0   1      9614      034   201286 -0.443781   \n",
       "1   2      2905      083   209264 -0.250027   \n",
       "2   3      2944      113    65701 -0.303138   \n",
       "3   4      2425      131    42385 -0.178275   \n",
       "4   5      2849      063   128608 -0.235811   \n",
       "\n",
       "                                            geometry  gid  id_1   loop  ocio  \\\n",
       "0  POLYGON ((486947.2187500237 2148842.250066909,...    1  None  27627    95   \n",
       "1  POLYGON ((478110.2187500393 2134697.250066519,...    2  None  76022    82   \n",
       "2  POLYGON ((501006.0312499983 2148019.750066887,...    3  None  10611    72   \n",
       "3  (POLYGON ((507974.718749986 2125105.250066254,...    4  None   8468    60   \n",
       "4  POLYGON ((487190.7500000236 2140396.250066676,...    5  None  24472    30   \n",
       "\n",
       "       pob  region_1  region_2  region_3  salida  servicios    viv  \n",
       "0  2125687        25        16        20  200217        579  32618  \n",
       "1  3563363        25        20         4  209859        949  42238  \n",
       "2  3128496        29        43        17   66706        459  26003  \n",
       "3  4842162        21        42        23   43106        256  44080  \n",
       "4  4146145        38        20         2  128756        441  35981  "
      ]
     },
     "execution_count": 19,
     "metadata": {},
     "output_type": "execute_result"
    }
   ],
   "source": [
    "datos = GeoDataFrame.from_file('data/variables_regiones.shp')\n",
    "datos.head()"
   ]
  }
 ],
 "metadata": {
  "kernelspec": {
   "display_name": "Python 2",
   "language": "python",
   "name": "python2"
  },
  "language_info": {
   "codemirror_mode": {
    "name": "ipython",
    "version": 2
   },
   "file_extension": ".py",
   "mimetype": "text/x-python",
   "name": "python",
   "nbconvert_exporter": "python",
   "pygments_lexer": "ipython2",
   "version": "2.7.10"
  }
 },
 "nbformat": 4,
 "nbformat_minor": 0
}
